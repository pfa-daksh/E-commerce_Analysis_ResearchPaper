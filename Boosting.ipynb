{
 "cells": [
  {
   "cell_type": "code",
   "execution_count": 1,
   "id": "7461164a",
   "metadata": {},
   "outputs": [],
   "source": [
    "import warnings # Used to ignore warnings\n",
    "warnings.filterwarnings('ignore')\n",
    "import xgboost as xg\n",
    "import pandas as pd\n",
    "import numpy as np\n",
    "import matplotlib.pyplot as plt\n",
    "%matplotlib inline \n",
    "# It will make plot output appear in the notebook as well as save in the notebook, hence next time when you open, you would be able to see the plot, without re running\n",
    "plt.rc(\"font\", size=14)\n",
    "import seaborn as sns\n",
    "from sklearn import preprocessing\n",
    "from sklearn.preprocessing import StandardScaler # For pre-prcoessing\n",
    "from sklearn.preprocessing import LabelEncoder # Just in case the output variable is in string form or Used to convert the categorical variable into numeric\n",
    "lb = LabelEncoder() # Also if independent variables are in string format, encode those ones as well\n",
    "from sklearn.model_selection import train_test_split # For spliiting into test and train\n",
    "from sklearn.model_selection import GridSearchCV\n",
    "from sklearn.cluster import KMeans\n",
    "from sklearn import tree # For decision tree\n",
    "from sklearn.tree import DecisionTreeClassifier\n",
    "from sklearn import metrics\n",
    "from sklearn.metrics import accuracy_score \n",
    "from sklearn.metrics import confusion_matrix\n",
    "from sklearn.metrics import accuracy_score\n",
    "from sklearn.metrics import recall_score\n",
    "from sklearn.metrics import precision_score\n",
    "from sklearn.metrics import classification_report\n",
    "from sklearn.metrics import silhouette_score\n",
    "from sklearn.metrics import r2_score\n",
    "from sklearn.metrics import mean_squared_error\n",
    "from sklearn.ensemble import RandomForestRegressor\n",
    "from sklearn.ensemble import RandomForestClassifier\n",
    "from sklearn.ensemble import AdaBoostClassifier\n",
    "from sklearn.ensemble import GradientBoostingRegressor\n",
    "from sklearn.ensemble import GradientBoostingClassifier\n",
    "from sklearn.linear_model import LogisticRegression\n",
    "from sklearn.datasets import load_boston\n",
    "from IPython.core.interactiveshell import InteractiveShell\n",
    "InteractiveShell.ast_node_interactivity = 'all'\n",
    "from yellowbrick.cluster import SilhouetteVisualizer\n",
    "import xgboost as xgb\n",
    "from xgboost import XGBClassifier\n",
    "import lightgbm as lgb"
   ]
  },
  {
   "cell_type": "markdown",
   "id": "4158faf4",
   "metadata": {},
   "source": [
    "# Comparing various boosting and other algorithms."
   ]
  },
  {
   "cell_type": "code",
   "execution_count": 2,
   "id": "3dff73ae",
   "metadata": {},
   "outputs": [],
   "source": [
    "data = pd.read_csv(r'C:\\Users\\Lenovo\\Desktop\\MBA STUDY MATERIAL\\TRIMESTER -4\\ADVANCED MACHINE LEARNING\\AML Project\\online_shoppers_intention.csv')"
   ]
  },
  {
   "cell_type": "code",
   "execution_count": 4,
   "id": "6008aef8",
   "metadata": {},
   "outputs": [],
   "source": [
    "data['Revenue'] = lb.fit_transform(data['Revenue'])\n",
    "data['Month'] = lb.fit_transform(data['Month'])\n",
    "data['VisitorType'] = lb.fit_transform(data['VisitorType'])"
   ]
  },
  {
   "cell_type": "code",
   "execution_count": 5,
   "id": "688f1b5f",
   "metadata": {},
   "outputs": [
    {
     "data": {
      "text/plain": [
       "0        0\n",
       "1        0\n",
       "2        0\n",
       "3        0\n",
       "4        0\n",
       "        ..\n",
       "12325    0\n",
       "12326    0\n",
       "12327    0\n",
       "12328    0\n",
       "12329    0\n",
       "Name: Revenue, Length: 12330, dtype: int64"
      ]
     },
     "execution_count": 5,
     "metadata": {},
     "output_type": "execute_result"
    }
   ],
   "source": [
    "y = data['Revenue']\n",
    "y"
   ]
  },
  {
   "cell_type": "code",
   "execution_count": 6,
   "id": "1ba45fff",
   "metadata": {},
   "outputs": [],
   "source": [
    "x = data.drop(columns = ['Revenue'], inplace = True)"
   ]
  },
  {
   "cell_type": "code",
   "execution_count": 7,
   "id": "d298bc9d",
   "metadata": {},
   "outputs": [],
   "source": [
    "x_train, x_test, y_train, y_test= train_test_split(data,y,test_size=0.3)"
   ]
  },
  {
   "cell_type": "code",
   "execution_count": 8,
   "id": "d796463a",
   "metadata": {},
   "outputs": [],
   "source": [
    "sc_x = StandardScaler()\n",
    "xtrain = sc_x.fit_transform(x_train)\n",
    "xtest = sc_x.transform(x_test)"
   ]
  },
  {
   "cell_type": "code",
   "execution_count": 9,
   "id": "9d598a35",
   "metadata": {},
   "outputs": [],
   "source": [
    "model1 = LogisticRegression()\n",
    "logistic = model1.fit(x_train, y_train)\n",
    "y_pred1 = model1.predict(x_test)\n",
    "accuracy_lgst = metrics.accuracy_score(y_test,y_pred1)"
   ]
  },
  {
   "cell_type": "code",
   "execution_count": 10,
   "id": "cccb48c2",
   "metadata": {},
   "outputs": [],
   "source": [
    "model2 = RandomForestClassifier()\n",
    "randomforest = model2.fit(x_train, y_train)\n",
    "y_pred2 = model2.predict(x_test)\n",
    "accuracy_rfc = metrics.accuracy_score(y_test,y_pred2)\n"
   ]
  },
  {
   "cell_type": "code",
   "execution_count": 11,
   "id": "a3002d2f",
   "metadata": {},
   "outputs": [],
   "source": [
    "model3 = DecisionTreeClassifier()\n",
    "randomforest = model3.fit(x_train, y_train)\n",
    "y_pred3 = model3.predict(x_test)\n",
    "accuracy_dst = metrics.accuracy_score(y_test,y_pred3)\n"
   ]
  },
  {
   "cell_type": "code",
   "execution_count": 12,
   "id": "fbdd79c8",
   "metadata": {},
   "outputs": [],
   "source": [
    "adamodel = AdaBoostClassifier()\n",
    "model4 = adamodel.fit(x_train, y_train)\n",
    "y_pred4 = model4.predict(x_test)\n",
    "accuracy_adb = metrics.accuracy_score(y_test,y_pred4)"
   ]
  },
  {
   "cell_type": "code",
   "execution_count": 13,
   "id": "757d0bb3",
   "metadata": {},
   "outputs": [],
   "source": [
    "gboost = GradientBoostingClassifier()\n",
    "model5 = gboost.fit(x_train, y_train)\n",
    "y_pred5 = model5.predict(x_test)\n",
    "accuracy_grd = metrics.accuracy_score(y_test,y_pred5)"
   ]
  },
  {
   "cell_type": "code",
   "execution_count": 14,
   "id": "f7884e6c",
   "metadata": {},
   "outputs": [],
   "source": [
    "xgboost = XGBClassifier()\n",
    "model6 = xgboost.fit(x_train, y_train)\n",
    "y_pred6 = model6.predict(x_test)\n",
    "accuracy_xgb = metrics.accuracy_score(y_test,y_pred6)"
   ]
  },
  {
   "cell_type": "code",
   "execution_count": 15,
   "id": "a03ee892",
   "metadata": {},
   "outputs": [],
   "source": [
    "lightGBM = lgb.LGBMClassifier()\n",
    "model7 = lightGBM.fit(x_train, y_train)\n",
    "y_pred7 = model7.predict(x_test)\n",
    "accuracy_lgb = metrics.accuracy_score(y_test,y_pred7)"
   ]
  },
  {
   "cell_type": "code",
   "execution_count": 16,
   "id": "e70596d5",
   "metadata": {},
   "outputs": [],
   "source": [
    "acc_scores = {'Logistic':accuracy_lgst,\n",
    "              'random_forest':accuracy_rfc,\n",
    "              'decision_tree':accuracy_dst,\n",
    "              'adaboost':accuracy_adb,\n",
    "              'gradient_boositng':accuracy_grd,\n",
    "              'xgboost':accuracy_xgb,\n",
    "             'LightGBM':accuracy_lgb }"
   ]
  },
  {
   "cell_type": "code",
   "execution_count": 17,
   "id": "cd7addc2",
   "metadata": {},
   "outputs": [
    {
     "name": "stdout",
     "output_type": "stream",
     "text": [
      "Logistic  :  87.26682887266828\n",
      "random_forest  :  90.40281157069478\n",
      "decision_tree  :  85.9691808596918\n",
      "adaboost  :  89.02406055690727\n",
      "gradient_boositng  :  90.18653690186537\n",
      "xgboost  :  89.24033522573669\n",
      "LightGBM  :  89.94322789943227\n"
     ]
    }
   ],
   "source": [
    "for key, value in acc_scores.items():\n",
    "    print(key, ' : ', value*100)"
   ]
  }
 ],
 "metadata": {
  "kernelspec": {
   "display_name": "Python 3",
   "language": "python",
   "name": "python3"
  },
  "language_info": {
   "codemirror_mode": {
    "name": "ipython",
    "version": 3
   },
   "file_extension": ".py",
   "mimetype": "text/x-python",
   "name": "python",
   "nbconvert_exporter": "python",
   "pygments_lexer": "ipython3",
   "version": "3.8.8"
  },
  "vscode": {
   "interpreter": {
    "hash": "8c3d4d9970fc5c09c50d9318a9c7fbf4d0159e4b28833276f5678ee22bded273"
   }
  }
 },
 "nbformat": 4,
 "nbformat_minor": 5
}
